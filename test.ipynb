{
 "cells": [
  {
   "cell_type": "code",
   "execution_count": 1,
   "metadata": {},
   "outputs": [
    {
     "name": "stdout",
     "output_type": "stream",
     "text": [
      "Rock\n"
     ]
    }
   ],
   "source": [
    "import requests\n",
    "import tensorflow as tf\n",
    "\n",
    "\n",
    "\n",
    "# --------- Kolom fungsi image_preprocessing ------------\n",
    "\n",
    "# -------------------------------------------------------\n",
    "\n",
    "\n",
    "# Prepare the data that is going to be sent in the POST request\n",
    "# ------------ Kolom persiapan data--------------\n",
    "\n",
    "# -------------------------------------------------------\n",
    "\n",
    "\n",
    "# ------------ Kolom meminta request prediksi--------------\n",
    "# Define the endpoint with format: http://localhost:8501/v1/models/MODEL_NAME:predict\n",
    "\n",
    "# -------------------------------------------------------\n",
    "\n"
   ]
  },
  {
   "cell_type": "code",
   "execution_count": null,
   "metadata": {},
   "outputs": [],
   "source": []
  }
 ],
 "metadata": {
  "interpreter": {
   "hash": "bec548f1eaa5f791e61300a57b6bdf324df859493cf8e5c89b07d9effee2d662"
  },
  "kernelspec": {
   "display_name": "Python 3.8.8 64-bit ('base': conda)",
   "name": "python3"
  },
  "language_info": {
   "codemirror_mode": {
    "name": "ipython",
    "version": 3
   },
   "file_extension": ".py",
   "mimetype": "text/x-python",
   "name": "python",
   "nbconvert_exporter": "python",
   "pygments_lexer": "ipython3",
   "version": "3.8.8"
  },
  "orig_nbformat": 4
 },
 "nbformat": 4,
 "nbformat_minor": 2
}
